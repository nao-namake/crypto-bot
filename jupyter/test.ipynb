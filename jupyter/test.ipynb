{
 "cells": [
  {
   "cell_type": "code",
   "execution_count": 1,
   "id": "19ec9922-7933-408d-832c-aa01ec05c175",
   "metadata": {},
   "outputs": [
    {
     "name": "stdout",
     "output_type": "stream",
     "text": [
      "Requirement already satisfied: ccxt in /Users/nao/Library/jupyterlab-desktop/jlab_server/lib/python3.12/site-packages (4.4.77)\n",
      "Requirement already satisfied: pandas in /Users/nao/Library/jupyterlab-desktop/jlab_server/lib/python3.12/site-packages (2.2.2)\n",
      "Requirement already satisfied: numpy in /Users/nao/Library/jupyterlab-desktop/jlab_server/lib/python3.12/site-packages (2.1.0)\n",
      "Requirement already satisfied: ta-lib in /Users/nao/Library/jupyterlab-desktop/jlab_server/lib/python3.12/site-packages (0.6.3)\n",
      "Requirement already satisfied: setuptools>=60.9.0 in /Users/nao/Library/jupyterlab-desktop/jlab_server/lib/python3.12/site-packages (from ccxt) (72.2.0)\n",
      "Requirement already satisfied: certifi>=2018.1.18 in /Users/nao/Library/jupyterlab-desktop/jlab_server/lib/python3.12/site-packages (from ccxt) (2024.7.4)\n",
      "Requirement already satisfied: requests>=2.18.4 in /Users/nao/Library/jupyterlab-desktop/jlab_server/lib/python3.12/site-packages (from ccxt) (2.32.3)\n",
      "Requirement already satisfied: cryptography>=2.6.1 in /Users/nao/Library/jupyterlab-desktop/jlab_server/lib/python3.12/site-packages (from ccxt) (44.0.2)\n",
      "Requirement already satisfied: typing-extensions>=4.4.0 in /Users/nao/Library/jupyterlab-desktop/jlab_server/lib/python3.12/site-packages (from ccxt) (4.12.2)\n",
      "Requirement already satisfied: aiohttp<=3.10.11 in /Users/nao/Library/jupyterlab-desktop/jlab_server/lib/python3.12/site-packages (from ccxt) (3.10.11)\n",
      "Requirement already satisfied: aiodns>=1.1.1 in /Users/nao/Library/jupyterlab-desktop/jlab_server/lib/python3.12/site-packages (from ccxt) (3.2.0)\n",
      "Requirement already satisfied: yarl>=1.7.2 in /Users/nao/Library/jupyterlab-desktop/jlab_server/lib/python3.12/site-packages (from ccxt) (1.20.0)\n",
      "Requirement already satisfied: python-dateutil>=2.8.2 in /Users/nao/Library/jupyterlab-desktop/jlab_server/lib/python3.12/site-packages (from pandas) (2.9.0)\n",
      "Requirement already satisfied: pytz>=2020.1 in /Users/nao/Library/jupyterlab-desktop/jlab_server/lib/python3.12/site-packages (from pandas) (2024.1)\n",
      "Requirement already satisfied: tzdata>=2022.7 in /Users/nao/Library/jupyterlab-desktop/jlab_server/lib/python3.12/site-packages (from pandas) (2024.1)\n",
      "Requirement already satisfied: pycares>=4.0.0 in /Users/nao/Library/jupyterlab-desktop/jlab_server/lib/python3.12/site-packages (from aiodns>=1.1.1->ccxt) (4.6.1)\n",
      "Requirement already satisfied: aiohappyeyeballs>=2.3.0 in /Users/nao/Library/jupyterlab-desktop/jlab_server/lib/python3.12/site-packages (from aiohttp<=3.10.11->ccxt) (2.6.1)\n",
      "Requirement already satisfied: aiosignal>=1.1.2 in /Users/nao/Library/jupyterlab-desktop/jlab_server/lib/python3.12/site-packages (from aiohttp<=3.10.11->ccxt) (1.3.2)\n",
      "Requirement already satisfied: attrs>=17.3.0 in /Users/nao/Library/jupyterlab-desktop/jlab_server/lib/python3.12/site-packages (from aiohttp<=3.10.11->ccxt) (24.2.0)\n",
      "Requirement already satisfied: frozenlist>=1.1.1 in /Users/nao/Library/jupyterlab-desktop/jlab_server/lib/python3.12/site-packages (from aiohttp<=3.10.11->ccxt) (1.6.0)\n",
      "Requirement already satisfied: multidict<7.0,>=4.5 in /Users/nao/Library/jupyterlab-desktop/jlab_server/lib/python3.12/site-packages (from aiohttp<=3.10.11->ccxt) (6.4.3)\n",
      "Requirement already satisfied: cffi>=1.12 in /Users/nao/Library/jupyterlab-desktop/jlab_server/lib/python3.12/site-packages (from cryptography>=2.6.1->ccxt) (1.17.0)\n",
      "Requirement already satisfied: six>=1.5 in /Users/nao/Library/jupyterlab-desktop/jlab_server/lib/python3.12/site-packages (from python-dateutil>=2.8.2->pandas) (1.16.0)\n",
      "Requirement already satisfied: charset-normalizer<4,>=2 in /Users/nao/Library/jupyterlab-desktop/jlab_server/lib/python3.12/site-packages (from requests>=2.18.4->ccxt) (3.3.2)\n",
      "Requirement already satisfied: idna<4,>=2.5 in /Users/nao/Library/jupyterlab-desktop/jlab_server/lib/python3.12/site-packages (from requests>=2.18.4->ccxt) (3.8)\n",
      "Requirement already satisfied: urllib3<3,>=1.21.1 in /Users/nao/Library/jupyterlab-desktop/jlab_server/lib/python3.12/site-packages (from requests>=2.18.4->ccxt) (2.2.2)\n",
      "Requirement already satisfied: propcache>=0.2.1 in /Users/nao/Library/jupyterlab-desktop/jlab_server/lib/python3.12/site-packages (from yarl>=1.7.2->ccxt) (0.3.1)\n",
      "Requirement already satisfied: pycparser in /Users/nao/Library/jupyterlab-desktop/jlab_server/lib/python3.12/site-packages (from cffi>=1.12->cryptography>=2.6.1->ccxt) (2.22)\n"
     ]
    }
   ],
   "source": [
    "!pip install ccxt pandas numpy ta-lib"
   ]
  },
  {
   "cell_type": "code",
   "execution_count": 2,
   "id": "daf2c2e3-1fc4-4578-973c-dbeaba2b05d1",
   "metadata": {},
   "outputs": [
    {
     "ename": "ImportError",
     "evalue": "cannot import name 'Signal' from 'entry' (/Users/nao/Desktop/test2/test3/entry.py)",
     "output_type": "error",
     "traceback": [
      "\u001b[31m---------------------------------------------------------------------------\u001b[39m",
      "\u001b[31mImportError\u001b[39m                               Traceback (most recent call last)",
      "\u001b[36mFile \u001b[39m\u001b[32m~/Desktop/test2/test3/main.py:5\u001b[39m\n\u001b[32m      2\u001b[39m \u001b[38;5;28;01mimport\u001b[39;00m\u001b[38;5;250m \u001b[39m\u001b[34;01mpandas\u001b[39;00m\u001b[38;5;250m \u001b[39m\u001b[38;5;28;01mas\u001b[39;00m\u001b[38;5;250m \u001b[39m\u001b[34;01mpd\u001b[39;00m\n\u001b[32m      4\u001b[39m \u001b[38;5;28;01mfrom\u001b[39;00m\u001b[38;5;250m \u001b[39m\u001b[34;01mtool\u001b[39;00m\u001b[38;5;250m \u001b[39m\u001b[38;5;28;01mimport\u001b[39;00m MarketDataFetcher, IndicatorCalculator, DataPreprocessor\n\u001b[32m----> \u001b[39m\u001b[32m5\u001b[39m \u001b[38;5;28;01mfrom\u001b[39;00m\u001b[38;5;250m \u001b[39m\u001b[34;01mstrategy\u001b[39;00m\u001b[38;5;250m \u001b[39m\u001b[38;5;28;01mimport\u001b[39;00m BollingerStrategy\n\u001b[32m      6\u001b[39m \u001b[38;5;28;01mfrom\u001b[39;00m\u001b[38;5;250m \u001b[39m\u001b[34;01mentry\u001b[39;00m\u001b[38;5;250m \u001b[39m\u001b[38;5;28;01mimport\u001b[39;00m EntryExit\n\u001b[32m      7\u001b[39m \u001b[38;5;28;01mfrom\u001b[39;00m\u001b[38;5;250m \u001b[39m\u001b[34;01mbacktest\u001b[39;00m\u001b[38;5;250m \u001b[39m\u001b[38;5;28;01mimport\u001b[39;00m BacktestEngine\n",
      "\u001b[36mFile \u001b[39m\u001b[32m~/Desktop/test2/test3/strategy.py:5\u001b[39m\n\u001b[32m      3\u001b[39m \u001b[38;5;28;01mimport\u001b[39;00m\u001b[38;5;250m \u001b[39m\u001b[34;01mpandas\u001b[39;00m\u001b[38;5;250m \u001b[39m\u001b[38;5;28;01mas\u001b[39;00m\u001b[38;5;250m \u001b[39m\u001b[34;01mpd\u001b[39;00m\n\u001b[32m      4\u001b[39m \u001b[38;5;28;01mfrom\u001b[39;00m\u001b[38;5;250m \u001b[39m\u001b[34;01mtyping\u001b[39;00m\u001b[38;5;250m \u001b[39m\u001b[38;5;28;01mimport\u001b[39;00m Optional\n\u001b[32m----> \u001b[39m\u001b[32m5\u001b[39m \u001b[38;5;28;01mfrom\u001b[39;00m\u001b[38;5;250m \u001b[39m\u001b[34;01mentry\u001b[39;00m\u001b[38;5;250m \u001b[39m\u001b[38;5;28;01mimport\u001b[39;00m Signal, Position\n\u001b[32m      7\u001b[39m \u001b[38;5;28;01mclass\u001b[39;00m\u001b[38;5;250m \u001b[39m\u001b[34;01mStrategyBase\u001b[39;00m(ABC):\n\u001b[32m      8\u001b[39m \u001b[38;5;250m    \u001b[39m\u001b[33;03m\"\"\"\u001b[39;00m\n\u001b[32m      9\u001b[39m \u001b[33;03m    すべての戦略はこのインターフェースを実装する。\u001b[39;00m\n\u001b[32m     10\u001b[39m \u001b[33;03m    \"\"\"\u001b[39;00m\n",
      "\u001b[31mImportError\u001b[39m: cannot import name 'Signal' from 'entry' (/Users/nao/Desktop/test2/test3/entry.py)"
     ]
    }
   ],
   "source": [
    "import subprocess\n",
    "import sys\n",
    "\n",
    "def test_run_main():\n",
    "    # -m オプションで crypto_bot.main を起動\n",
    "    res = subprocess.run([sys.executable, \"-m\", \"crypto_bot.main\"], check=True)\n",
    "    assert res.returncode == 0"
   ]
  },
  {
   "cell_type": "code",
   "execution_count": null,
   "id": "f773a6bf-815a-4d85-8c88-6d1fa3cbb352",
   "metadata": {},
   "outputs": [],
   "source": []
  }
 ],
 "metadata": {
  "kernelspec": {
   "display_name": "Python (bot_env)",
   "language": "python",
   "name": "bot_env"
  },
  "language_info": {
   "codemirror_mode": {
    "name": "ipython",
    "version": 3
   },
   "file_extension": ".py",
   "mimetype": "text/x-python",
   "name": "python",
   "nbconvert_exporter": "python",
   "pygments_lexer": "ipython3",
   "version": "3.13.2"
  }
 },
 "nbformat": 4,
 "nbformat_minor": 5
}
