{
 "cells": [
  {
   "cell_type": "code",
   "execution_count": null,
   "id": "17cccb38-7556-40e0-98fd-40d1fa196b94",
   "metadata": {},
   "outputs": [],
   "source": [
    "import pandas as pd\n",
    "\n",
    "class RiskManager:\n",
    "    \"\"\"\n",
    "    ポジションサイジング & ストップロス水準の計算。\n",
    "    risk_per_trade : 口座残高に対するリスク割合 (例: 0.01=1%)\n",
    "    stop_atr_mult  : ATR の何倍をストップ幅に使うか\n",
    "    \"\"\"\n",
    "\n",
    "    def __init__(self, risk_per_trade: float = 0.01, stop_atr_mult: float = 1.5):\n",
    "        self.risk_per_trade = risk_per_trade\n",
    "        self.stop_atr_mult  = stop_atr_mult\n",
    "\n",
    "    def calc_stop_price(\n",
    "        self,\n",
    "        entry_price: float,\n",
    "        atr: pd.Series\n",
    "    ) -> float:\n",
    "        \"\"\"\n",
    "        ATR の最新値を取り、stop_atr_mult 倍した幅を下にずらした価格を返す。\n",
    "        \"\"\"\n",
    "        latest_atr = atr.iloc[-1]\n",
    "        return entry_price - latest_atr * self.stop_atr_mult\n",
    "\n",
    "    def calc_lot(\n",
    "        self,\n",
    "        balance: float,\n",
    "        entry_price: float,\n",
    "        stop_price: float\n",
    "    ) -> float:\n",
    "        \"\"\"\n",
    "        許容損失 = balance * risk_per_trade\n",
    "        損失幅 = entry_price - stop_price\n",
    "        ロット数 = 許容損失 ÷ 損失幅\n",
    "        \"\"\"\n",
    "        risk_amount = balance * self.risk_per_trade\n",
    "        loss_per_unit = entry_price - stop_price\n",
    "        if loss_per_unit <= 0:\n",
    "            return 0.0\n",
    "        return risk_amount / loss_per_unit"
   ]
  }
 ],
 "metadata": {
  "kernelspec": {
   "display_name": "Python 3 (ipykernel)",
   "language": "python",
   "name": "python3"
  },
  "language_info": {
   "codemirror_mode": {
    "name": "ipython",
    "version": 3
   },
   "file_extension": ".py",
   "mimetype": "text/x-python",
   "name": "python",
   "nbconvert_exporter": "python",
   "pygments_lexer": "ipython3",
   "version": "3.12.5"
  }
 },
 "nbformat": 4,
 "nbformat_minor": 5
}
